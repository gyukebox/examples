{
 "cells": [
  {
   "cell_type": "code",
   "execution_count": null,
   "metadata": {
    "collapsed": true
   },
   "outputs": [],
   "source": [
    "import facebook\n",
    "import json\n",
    "import requests\n",
    "\n",
    "# 연습문제 1 - 내가 몇개의 페이지에 좋아요를 눌렀을까?\n",
    "\n",
    "# SDK를 통하여 API 연결\n",
    "ACCESS_TOKEN = 'YOUR_ACCESS_TOKEN'\n",
    "api = facebook.GraphAPI(access_token=ACCESS_TOKEN)\n",
    "\n",
    "# 나에 대한 정보 가져오기\n",
    "me_object = api.get_object('me', fields='id, name, likes.fields(id, name, created_time, likes)')\n",
    "my_likes = me_object['likes']\n",
    "\n",
    "# Paging 이용하여 모든 좋아요 수집하기\n",
    "while 'next' in my_likes['paging']:\n",
    "    my_likes = requests.get(my_likes['paging']['next']).json()\n",
    "    for datum in my_likes['data']:\n",
    "        me_object['likes']['data'].append(datum)\n",
    "\n",
    "# 딕셔너리로 말아서\n",
    "data = {\n",
    "    'name': me_object['name'],\n",
    "    'likes': me_object['likes']['data'],\n",
    "    'total_count': len(me_object['likes']['data'])\n",
    "}\n",
    "\n",
    "# JSON 에 저장!\n",
    "with open('my_likes.json', 'w', encoding='utf8') as makefile:\n",
    "    json.dump(data, makefile, ensure_ascii=False, indent=4)"
   ]
  },
  {
   "cell_type": "code",
   "execution_count": null,
   "metadata": {
    "collapsed": true
   },
   "outputs": [],
   "source": [
    "import requests\n",
    "from prettytable import PrettyTable\n",
    "\n",
    "# 연습문제 2 - 코카콜라 vs 펩시\n",
    "\n",
    "ACCESS_TOKEN = 'YOUR_ACCESS_TOKEN'\n",
    "base_url = 'https://graph.facebook.com/v2.10/'\n",
    "search_type = 'page'\n",
    "\n",
    "# 코카 콜라의 좋아요 수는?\n",
    "# 코카콜라 키워드로 페이지 검색\n",
    "q = 'coca-cola'\n",
    "result = requests.get('{}search?type={}&q={}&access_token={}'.format(base_url, search_type, q, ACCESS_TOKEN)).json()\n",
    "\n",
    "# \"코카콜라\" 페이지는 당연히 첫번째로 뜨니깐, 해당 페이지의 id를 가져와서 검색\n",
    "page_id = result['data'][0]['id']\n",
    "fields = 'name, fan_count'\n",
    "result = requests.get('{}{}?fields={}&access_token={}'.format(base_url, page_id, fields, ACCESS_TOKEN)).json()\n",
    "coca_cola_likes = result['fan_count']\n",
    "print('{}의 좋아요 수 : {}'.format(result['name'], result['fan_count']))\n",
    "\n",
    "# 펩시의 좋아요 수는?\n",
    "# 펩시 키워드로 페이지 검색\n",
    "q = 'pepsi'\n",
    "result = requests.get('{}search?type={}&q={}&access_token={}'.format(base_url, search_type, q, ACCESS_TOKEN)).json()\n",
    "\n",
    "# 역시 이번에도 정확한 페이지는 당연히 첫번째로 뜨니깐, 해당 페이지의 id를 가져와서 검색\n",
    "page_id = result['data'][0]['id']\n",
    "fields = 'name, fan_count'\n",
    "result = requests.get('{}{}?fields={}&access_token={}'.format(base_url, page_id, fields, ACCESS_TOKEN)).json()\n",
    "pepsi_likes = result['fan_count']\n",
    "print('{}의 좋아요 수 : {}'.format(result['name'], result['fan_count']))\n",
    "\n",
    "# 한 술 더 떠서 표로 그려봅시다\n",
    "table = PrettyTable(field_names=['Coke Type', 'likes'])\n",
    "table.add_row(['Coca-cola', coca_cola_likes])\n",
    "table.add_row(['Pepsi', pepsi_likes])\n",
    "print(table)"
   ]
  },
  {
   "cell_type": "code",
   "execution_count": null,
   "metadata": {
    "collapsed": true
   },
   "outputs": [],
   "source": [
    "import requests\n",
    "import facebook\n",
    "from prettytable import PrettyTable\n",
    "\n",
    "# 연습문제 3 - \"건국대학교\" 키워드로 페이지 검색 후 좋아요 순으로 표 그리기\n",
    "\n",
    "ACCESS_TOKEN = 'YOUR_ACCESS_TOKEN'\n",
    "api = facebook.GraphAPI(access_token=ACCESS_TOKEN)\n",
    "\n",
    "# 검색 쿼리 만들어서 검색하기\n",
    "args = {\n",
    "    'type': 'page',\n",
    "    'q': '건국대학교',\n",
    "    'fields': 'name, likes'\n",
    "}\n",
    "search_result = api.request('search', args)\n",
    "data = search_result['data']\n",
    "\n",
    "# Paging 활용하여 모든 검색 결과 수집하기\n",
    "while True:\n",
    "    try:\n",
    "        search_result = requests.get(search_result['paging']['next']).json()\n",
    "        data += (search_result['data'])\n",
    "    except KeyError:\n",
    "        break\n",
    "\n",
    "# 좋아요 순으로 정렬\n",
    "data = sorted(data, key=lambda x: x['likes'], reverse=True)\n",
    "# 표로 그리기!\n",
    "table = PrettyTable(field_names=['name', 'likes'])\n",
    "for datum in data[:50]:\n",
    "    table.add_row([datum['name'], datum['likes']])\n",
    "print(table)"
   ]
  }
 ],
 "metadata": {
  "kernelspec": {
   "display_name": "social-env",
   "language": "python",
   "name": "social-env"
  },
  "language_info": {
   "codemirror_mode": {
    "name": "ipython",
    "version": 3
   },
   "file_extension": ".py",
   "mimetype": "text/x-python",
   "name": "python",
   "nbconvert_exporter": "python",
   "pygments_lexer": "ipython3",
   "version": "3.6.1"
  }
 },
 "nbformat": 4,
 "nbformat_minor": 2
}
