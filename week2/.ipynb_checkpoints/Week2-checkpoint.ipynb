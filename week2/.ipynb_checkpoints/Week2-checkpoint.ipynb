{
 "cells": [
  {
   "cell_type": "code",
   "execution_count": 18,
   "metadata": {
    "scrolled": true
   },
   "outputs": [
    {
     "name": "stdout",
     "output_type": "stream",
     "text": [
      "200\n",
      "{'x-app-usage': '{\"call_count\":2,\"total_cputime\":1,\"total_time\":1}', 'Expires': 'Sat, 01 Jan 2000 00:00:00 GMT', 'x-fb-trace-id': 'CWORkjeU67E', 'facebook-api-version': 'v2.4', 'Content-Type': 'application/json; charset=UTF-8', 'x-fb-rev': '3301168', 'Cache-Control': 'private, no-cache, no-store, must-revalidate', 'Pragma': 'no-cache', 'ETag': '\"0a4746d23f4949af277f439703d2ad4419c1dd5e\"', 'Access-Control-Allow-Origin': '*', 'X-FB-Debug': 'HMF5MHDx+MJGz5uTpryoFn/vyuTE4zmBhtA9owXffY3I/fXX2ojGpX/bjlaKX+O3oY6r7zqfx+sp2v3CqF5GtA==', 'Date': 'Fri, 15 Sep 2017 09:58:49 GMT', 'Connection': 'keep-alive', 'Content-Length': '52'}\n",
      "{'name': '최병규', 'id': '567212093408816'}\n"
     ]
    }
   ],
   "source": [
    "import json\n",
    "import requests\n",
    "\n",
    "base_url = 'https://graph.facebook.com/me?'\n",
    "ACCESS_TOKEN = 'EAACEdEose0cBACpqLYPKeDztJrpgYGdyu3cBlj5guZBd2Uh9bqGp7rh1DH55SoaXZALWvFC5ySovHUxxFKHeU6FeZBLDs2yQrdqQzPHavZBXnojamfZAGyQXwA0bDkKbzqL2NYABZCrc9W4znv4SwROSC7XM8tZBkXau2uukGEQv4QysdiTHyq8TgLCjdcuDHAZD'\n",
    "fields = 'id, name'\n",
    "\n",
    "response = requests.get('{}access_token={}'.format(base_url, ACCESS_TOKEN))\n",
    "print(response.status_code)\n",
    "print(response.headers)\n",
    "print(response.json())\n",
    "\n",
    "# 1. 딕셔너리에 넣어서 하나로 만든다\n",
    "total_response = {\n",
    "    'status': response.status_code,\n",
    "    'Headers': dict(response.headers),\n",
    "    'Body': response.json()\n",
    "}\n",
    "\n",
    "# 2. 파일을 열고 쓴다\n",
    "with open('response.json', 'w', encoding='utf8') as file:\n",
    "    json.dump(total_response, file, indent=2, ensure_ascii=False)\n"
   ]
  },
  {
   "cell_type": "code",
   "execution_count": 19,
   "metadata": {},
   "outputs": [
    {
     "name": "stdout",
     "output_type": "stream",
     "text": [
      "{\"id\":\"567212093408816\",\"name\":\"\\ucd5c\\ubcd1\\uaddc\",\"friends\":{\"data\":[{\"name\":\"MooYeol Prescott Lee\",\"id\":\"100000813495758\"},{\"name\":\"MinWhoan Evan Kim\",\"id\":\"768576603216347\"},{\"name\":\"Yeji Mun\",\"id\":\"626542054112165\"},{\"name\":\"\\ud55c\\ud638\\uc815\",\"id\":\"100003649961191\"},{\"name\":\"\\uc7a5\\ud558\\uc601\",\"id\":\"541792242622695\"},{\"name\":\"\\ubc31\\uc9c4\\uc601\",\"id\":\"302926219872114\"},{\"name\":\"\\uae40\\ubbfc\\uc9c0\",\"id\":\"1580458958884389\"},{\"name\":\"\\ud64d\\uc724\\ud45c\",\"id\":\"501898906815468\"},{\"name\":\"\\ucc28\\ud76c\\uc218\",\"id\":\"161336331009396\"}],\"paging\":{\"cursors\":{\"before\":\"QVFIUmRaNmRWWFN6TnNqaUQ0QmU0ODlyblRMVENNQnR0MzhaMlZATbmNJalRpNmItMHVTajBPWVBNRDJtUi1nN3ZAjb2xfRFpjUVlac1UySXdYbTNjQ1lqTDhB\",\"after\":\"QVFIUmJNb1FWRXlsOTRkVm9pTmhTTGFCTlIxWWxMR1FuRzFYNmdna016N3RXc0JMU0dfWUliaUJzZAklXd1hIREcxc0xQU1N3cUZAHTkd4YkF1dng3azRLemln\"}},\"summary\":{\"total_count\":271}}}\n"
     ]
    }
   ],
   "source": [
    "fields = 'id, name, friends'\n",
    "ACCESS_TOKEN = 'EAACEdEose0cBACpqLYPKeDztJrpgYGdyu3cBlj5guZBd2Uh9bqGp7rh1DH55SoaXZALWvFC5ySovHUxxFKHeU6FeZBLDs2yQrdqQzPHavZBXnojamfZAGyQXwA0bDkKbzqL2NYABZCrc9W4znv4SwROSC7XM8tZBkXau2uukGEQv4QysdiTHyq8TgLCjdcuDHAZD'\n",
    "response = requests.get('{}fields={}&access_token={}'.format(base_url, fields, ACCESS_TOKEN))\n",
    "print(response.text)"
   ]
  },
  {
   "cell_type": "code",
   "execution_count": 22,
   "metadata": {},
   "outputs": [],
   "source": [
    "with open('me.json', 'w', encoding='utf8') as json_file:\n",
    "    json.dump(response.json(), json_file, ensure_ascii=False, indent=2)"
   ]
  },
  {
   "cell_type": "code",
   "execution_count": 23,
   "metadata": {},
   "outputs": [
    {
     "name": "stdout",
     "output_type": "stream",
     "text": [
      "<facebook.GraphAPI object at 0x1073b8860>\n"
     ]
    }
   ],
   "source": [
    "import facebook\n",
    "\n",
    "api = facebook.GraphAPI(access_token=ACCESS_TOKEN)\n",
    "print(api)"
   ]
  },
  {
   "cell_type": "code",
   "execution_count": 29,
   "metadata": {},
   "outputs": [
    {
     "ename": "GraphAPIError",
     "evalue": "(#12) fan_count field requires version v2.6 or higher",
     "output_type": "error",
     "traceback": [
      "\u001b[0;31m---------------------------------------------------------------------------\u001b[0m",
      "\u001b[0;31mGraphAPIError\u001b[0m                             Traceback (most recent call last)",
      "\u001b[0;32m<ipython-input-29-5e9de4924e94>\u001b[0m in \u001b[0;36m<module>\u001b[0;34m()\u001b[0m\n\u001b[1;32m      5\u001b[0m }\n\u001b[1;32m      6\u001b[0m \u001b[0;34m\u001b[0m\u001b[0m\n\u001b[0;32m----> 7\u001b[0;31m \u001b[0msearch_result\u001b[0m \u001b[0;34m=\u001b[0m \u001b[0mapi\u001b[0m\u001b[0;34m.\u001b[0m\u001b[0mrequest\u001b[0m\u001b[0;34m(\u001b[0m\u001b[0;34m'search'\u001b[0m\u001b[0;34m,\u001b[0m \u001b[0msearch_data\u001b[0m\u001b[0;34m)\u001b[0m\u001b[0;34m\u001b[0m\u001b[0m\n\u001b[0m\u001b[1;32m      8\u001b[0m \u001b[0;32mwith\u001b[0m \u001b[0mopen\u001b[0m\u001b[0;34m(\u001b[0m\u001b[0;34m'search.json'\u001b[0m\u001b[0;34m,\u001b[0m \u001b[0;34m'w'\u001b[0m\u001b[0;34m,\u001b[0m \u001b[0mencoding\u001b[0m\u001b[0;34m=\u001b[0m\u001b[0;34m'utf8'\u001b[0m\u001b[0;34m)\u001b[0m \u001b[0;32mas\u001b[0m \u001b[0mjson_file\u001b[0m\u001b[0;34m:\u001b[0m\u001b[0;34m\u001b[0m\u001b[0m\n\u001b[1;32m      9\u001b[0m     \u001b[0mjson\u001b[0m\u001b[0;34m.\u001b[0m\u001b[0mdump\u001b[0m\u001b[0;34m(\u001b[0m\u001b[0msearch_result\u001b[0m\u001b[0;34m,\u001b[0m \u001b[0mjson_file\u001b[0m\u001b[0;34m,\u001b[0m \u001b[0mensure_ascii\u001b[0m\u001b[0;34m=\u001b[0m\u001b[0;32mFalse\u001b[0m\u001b[0;34m,\u001b[0m \u001b[0mindent\u001b[0m\u001b[0;34m=\u001b[0m\u001b[0;36m2\u001b[0m\u001b[0;34m)\u001b[0m\u001b[0;34m\u001b[0m\u001b[0m\n",
      "\u001b[0;32m~/bbj/social/social-env/lib/python3.6/site-packages/facebook/__init__.py\u001b[0m in \u001b[0;36mrequest\u001b[0;34m(self, path, args, post_args, files, method)\u001b[0m\n\u001b[1;32m    270\u001b[0m \u001b[0;34m\u001b[0m\u001b[0m\n\u001b[1;32m    271\u001b[0m         \u001b[0;32mif\u001b[0m \u001b[0mresult\u001b[0m \u001b[0;32mand\u001b[0m \u001b[0misinstance\u001b[0m\u001b[0;34m(\u001b[0m\u001b[0mresult\u001b[0m\u001b[0;34m,\u001b[0m \u001b[0mdict\u001b[0m\u001b[0;34m)\u001b[0m \u001b[0;32mand\u001b[0m \u001b[0mresult\u001b[0m\u001b[0;34m.\u001b[0m\u001b[0mget\u001b[0m\u001b[0;34m(\u001b[0m\u001b[0;34m\"error\"\u001b[0m\u001b[0;34m)\u001b[0m\u001b[0;34m:\u001b[0m\u001b[0;34m\u001b[0m\u001b[0m\n\u001b[0;32m--> 272\u001b[0;31m             \u001b[0;32mraise\u001b[0m \u001b[0mGraphAPIError\u001b[0m\u001b[0;34m(\u001b[0m\u001b[0mresult\u001b[0m\u001b[0;34m)\u001b[0m\u001b[0;34m\u001b[0m\u001b[0m\n\u001b[0m\u001b[1;32m    273\u001b[0m         \u001b[0;32mreturn\u001b[0m \u001b[0mresult\u001b[0m\u001b[0;34m\u001b[0m\u001b[0m\n\u001b[1;32m    274\u001b[0m \u001b[0;34m\u001b[0m\u001b[0m\n",
      "\u001b[0;31mGraphAPIError\u001b[0m: (#12) fan_count field requires version v2.6 or higher"
     ]
    }
   ],
   "source": [
    "search_data = {\n",
    "    'type': 'page',\n",
    "    'q': '아싸',\n",
    "    'fields': 'id, name, fan_count'\n",
    "}\n",
    "\n",
    "search_result = api.request('search', search_data)\n",
    "with open('search.json', 'w', encoding='utf8') as json_file:\n",
    "    json.dump(search_result, json_file, ensure_ascii=False, indent=2)\n",
    "    "
   ]
  },
  {
   "cell_type": "code",
   "execution_count": null,
   "metadata": {
    "collapsed": true
   },
   "outputs": [],
   "source": []
  }
 ],
 "metadata": {
  "kernelspec": {
   "display_name": "social-env",
   "language": "python",
   "name": "social-env"
  },
  "language_info": {
   "codemirror_mode": {
    "name": "ipython",
    "version": 3
   },
   "file_extension": ".py",
   "mimetype": "text/x-python",
   "name": "python",
   "nbconvert_exporter": "python",
   "pygments_lexer": "ipython3",
   "version": "3.6.1"
  }
 },
 "nbformat": 4,
 "nbformat_minor": 2
}
