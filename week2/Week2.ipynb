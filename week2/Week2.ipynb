{
 "cells": [
  {
   "cell_type": "code",
   "execution_count": 1,
   "metadata": {
    "scrolled": true
   },
   "outputs": [
    {
     "name": "stdout",
     "output_type": "stream",
     "text": [
      "400\n",
      "{'Access-Control-Allow-Origin': '*', 'WWW-Authenticate': 'OAuth \"Facebook Platform\" \"invalid_token\" \"Error validating access token: Session has expired on Friday, 15-Sep-17 04:00:00 PDT. The current time is Friday, 15-Sep-17 05:11:31 PDT.\"', 'Pragma': 'no-cache', 'Cache-Control': 'no-store', 'x-app-usage': '{\"call_count\":2,\"total_cputime\":2,\"total_time\":2}', 'x-fb-rev': '3301236', 'Content-Type': 'application/json; charset=UTF-8', 'x-fb-trace-id': 'EgAr03Dzeg+', 'Expires': 'Sat, 01 Jan 2000 00:00:00 GMT', 'Vary': 'Accept-Encoding', 'Content-Encoding': 'gzip', 'X-FB-Debug': '9OqTEYF8CWP5SnXo1PlaSH974lFkaonD6a/GoA/0vQyJnWrCGIKm4Zdigs35zd/eNzRHzFJDGX6oUEa0oQffbw==', 'Date': 'Fri, 15 Sep 2017 12:11:31 GMT', 'Connection': 'keep-alive', 'Content-Length': '200'}\n",
      "{'error': {'message': 'Error validating access token: Session has expired on Friday, 15-Sep-17 04:00:00 PDT. The current time is Friday, 15-Sep-17 05:11:31 PDT.', 'type': 'OAuthException', 'code': 190, 'error_subcode': 463, 'fbtrace_id': 'EgAr03Dzeg+'}}\n"
     ]
    }
   ],
   "source": [
    "import json\n",
    "import requests\n",
    "\n",
    "base_url = 'https://graph.facebook.com/me?'\n",
    "ACCESS_TOKEN = 'EAACEdEose0cBAKcRm0iFYLVXDj4YtvJuv0y91uRZBWhxextO1lpijZCTKKxZAjDd9CjFthvTqt4HkadKtYH7iuDELBauw5j1HQosA2asiNTeUBf0AhqCDxta9hNoXv3ZBf27WyKFgE3kKgu1kRwkwQ0rcOWL1lsNiZBFuFTGagyaAOPL3Pu72zEyyUybZBZBPkZD'\n",
    "fields = 'id, name'\n",
    "\n",
    "response = requests.get('{}access_token={}'.format(base_url, ACCESS_TOKEN))\n",
    "print(response.status_code)\n",
    "print(response.headers)\n",
    "print(response.json())\n",
    "\n",
    "# 1. 딕셔너리에 넣어서 하나로 만든다\n",
    "total_response = {\n",
    "    'status': response.status_code,\n",
    "    'Headers': dict(response.headers),\n",
    "    'Body': response.json()\n",
    "}\n",
    "\n",
    "# 2. 파일을 열고 쓴다\n",
    "with open('response.json', 'w', encoding='utf8') as file:\n",
    "    json.dump(total_response, file, indent=2, ensure_ascii=False)\n"
   ]
  },
  {
   "cell_type": "code",
   "execution_count": 11,
   "metadata": {},
   "outputs": [
    {
     "name": "stdout",
     "output_type": "stream",
     "text": [
      "{\"id\":\"567212093408816\",\"name\":\"\\ucd5c\\ubcd1\\uaddc\",\"friends\":{\"data\":[{\"name\":\"MooYeol Prescott Lee\",\"id\":\"100000813495758\"},{\"name\":\"MinWhoan Evan Kim\",\"id\":\"768576603216347\"},{\"name\":\"Yeji Mun\",\"id\":\"626542054112165\"},{\"name\":\"\\ud55c\\ud638\\uc815\",\"id\":\"100003649961191\"},{\"name\":\"\\uc7a5\\ud558\\uc601\",\"id\":\"541792242622695\"},{\"name\":\"\\ubc31\\uc9c4\\uc601\",\"id\":\"302926219872114\"},{\"name\":\"\\uae40\\ubbfc\\uc9c0\",\"id\":\"1580458958884389\"},{\"name\":\"\\ud64d\\uc724\\ud45c\",\"id\":\"501898906815468\"},{\"name\":\"\\ucc28\\ud76c\\uc218\",\"id\":\"161336331009396\"}],\"paging\":{\"cursors\":{\"before\":\"QVFIUmRaNmRWWFN6TnNqaUQ0QmU0ODlyblRMVENNQnR0MzhaMlZATbmNJalRpNmItMHVTajBPWVBNRDJtUi1nN3ZAjb2xfRFpjUVlac1UySXdYbTNjQ1lqTDhB\",\"after\":\"QVFIUmJNb1FWRXlsOTRkVm9pTmhTTGFCTlIxWWxMR1FuRzFYNmdna016N3RXc0JMU0dfWUliaUJzZAklXd1hIREcxc0xQU1N3cUZAHTkd4YkF1dng3azRLemln\"}},\"summary\":{\"total_count\":271}}}\n"
     ]
    }
   ],
   "source": [
    "fields = 'id, name, friends'\n",
    "ACCESS_TOKEN = 'EAACEdEose0cBAKcRm0iFYLVXDj4YtvJuv0y91uRZBWhxextO1lpijZCTKKxZAjDd9CjFthvTqt4HkadKtYH7iuDELBauw5j1HQosA2asiNTeUBf0AhqCDxta9hNoXv3ZBf27WyKFgE3kKgu1kRwkwQ0rcOWL1lsNiZBFuFTGagyaAOPL3Pu72zEyyUybZBZBPkZD'\n",
    "response = requests.get('{}fields={}&access_token={}'.format(base_url, fields, ACCESS_TOKEN))\n",
    "print(response.text)"
   ]
  },
  {
   "cell_type": "code",
   "execution_count": 22,
   "metadata": {
    "collapsed": true
   },
   "outputs": [],
   "source": [
    "with open('me.json', 'w', encoding='utf8') as json_file:\n",
    "    json.dump(response.json(), json_file, ensure_ascii=False, indent=2)"
   ]
  },
  {
   "cell_type": "code",
   "execution_count": 23,
   "metadata": {},
   "outputs": [
    {
     "name": "stdout",
     "output_type": "stream",
     "text": [
      "<facebook.GraphAPI object at 0x1073b8860>\n"
     ]
    }
   ],
   "source": [
    "import facebook\n",
    "\n",
    "api = facebook.GraphAPI(access_token=ACCESS_TOKEN)\n",
    "print(api)"
   ]
  },
  {
   "cell_type": "code",
   "execution_count": 10,
   "metadata": {},
   "outputs": [],
   "source": [
    "import facebook\n",
    "\n",
    "search_data = {\n",
    "    'type': 'page',\n",
    "    'q': '아싸',\n",
    "    'fields': 'id, name'\n",
    "}\n",
    "\n",
    "ACCESS_TOKEN = 'EAACEdEose0cBAKcRm0iFYLVXDj4YtvJuv0y91uRZBWhxextO1lpijZCTKKxZAjDd9CjFthvTqt4HkadKtYH7iuDELBauw5j1HQosA2asiNTeUBf0AhqCDxta9hNoXv3ZBf27WyKFgE3kKgu1kRwkwQ0rcOWL1lsNiZBFuFTGagyaAOPL3Pu72zEyyUybZBZBPkZD'\n",
    "api = facebook.GraphAPI(version=2.6, access_token=ACCESS_TOKEN)\n",
    "\n",
    "search_result = api.request('search', search_data)\n",
    "with open('search.json', 'w', encoding='utf8') as json_file:\n",
    "    json.dump(search_result, json_file, ensure_ascii=False, indent=2)\n",
    "    "
   ]
  },
  {
   "cell_type": "code",
   "execution_count": null,
   "metadata": {
    "collapsed": true
   },
   "outputs": [],
   "source": []
  }
 ],
 "metadata": {
  "kernelspec": {
   "display_name": "social-env",
   "language": "python",
   "name": "social-env"
  },
  "language_info": {
   "codemirror_mode": {
    "name": "ipython",
    "version": 3
   },
   "file_extension": ".py",
   "mimetype": "text/x-python",
   "name": "python",
   "nbconvert_exporter": "python",
   "pygments_lexer": "ipython3",
   "version": "3.6.1"
  }
 },
 "nbformat": 4,
 "nbformat_minor": 2
}
