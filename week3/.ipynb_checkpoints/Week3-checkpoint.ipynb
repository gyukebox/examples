{
 "cells": [
  {
   "cell_type": "code",
   "execution_count": 1,
   "metadata": {},
   "outputs": [
    {
     "name": "stdout",
     "output_type": "stream",
     "text": [
      "[3, 4, 5, 6, 8, 9, 7, 1, 2]\n"
     ]
    }
   ],
   "source": [
    "# Double Comprehension 예제\n",
    "original_list = [[3, 4, 5], [6, 8, 9], [7, 1, 2]]\n",
    "merged_list = [element for sub_list in original_list for element in sub_list]\n",
    "print(merged_list)"
   ]
  },
  {
   "cell_type": "code",
   "execution_count": null,
   "metadata": {
    "collapsed": true
   },
   "outputs": [],
   "source": [
    "# 위의 코드랑 완전 똑같은 코드입니다\n",
    "origial_list = [[3, 4, 5], [6, 8, 9], [7, 1, 2]]\n",
    "merged_list = []\n",
    "for sub_list in original_list:\n",
    "    for element in sub_list:\n",
    "        merged_list.append(element)\n",
    "print(merged_list)"
   ]
  },
  {
   "cell_type": "code",
   "execution_count": 1,
   "metadata": {},
   "outputs": [
    {
     "name": "stdout",
     "output_type": "stream",
     "text": [
      "[ 14  58  98  70  51   4  43  13  64  19  21   2  65  54  97  80  75  71\n",
      "  98  63  87  51  70  73  30  48  40  30  11  81  45  86  37  26  53 100\n",
      "  57  11  19  18   9  52   9  52  15  47 100  82  62  28  76  11  34  55\n",
      "  28   5  17  87  53  73  32  45   9  41  69  52  75  79  11  78  97  26\n",
      "  79  90  48  69  37  91  78  94  82  55  12  38  59  69  38  70   7  60\n",
      "  70  80  16  63  23  81  46  24  96  91]\n",
      "Counter({70: 4, 11: 4, 9: 3, 52: 3, 69: 3, 98: 2, 51: 2, 19: 2, 97: 2, 80: 2, 75: 2, 63: 2, 87: 2, 73: 2, 30: 2, 48: 2, 81: 2, 45: 2, 37: 2, 26: 2, 53: 2, 100: 2, 82: 2, 28: 2, 55: 2, 79: 2, 78: 2, 91: 2, 38: 2, 14: 1, 58: 1, 4: 1, 43: 1, 13: 1, 64: 1, 21: 1, 2: 1, 65: 1, 54: 1, 71: 1, 40: 1, 86: 1, 57: 1, 18: 1, 15: 1, 47: 1, 62: 1, 76: 1, 34: 1, 5: 1, 17: 1, 32: 1, 41: 1, 90: 1, 94: 1, 12: 1, 59: 1, 7: 1, 60: 1, 16: 1, 23: 1, 46: 1, 24: 1, 96: 1})\n"
     ]
    }
   ],
   "source": [
    "# Counter 예제\n",
    "\n",
    "import numpy as np\n",
    "from collections import Counter\n",
    "\n",
    "a = np.random.randint(1, 101, 100)\n",
    "print(a)\n",
    "count_a = Counter(a)\n",
    "print(count_a)"
   ]
  },
  {
   "cell_type": "code",
   "execution_count": 7,
   "metadata": {},
   "outputs": [
    {
     "name": "stdout",
     "output_type": "stream",
     "text": [
      "<class 'collections.Counter'>\n",
      "+--------+-----------+\n",
      "| Number | Frequency |\n",
      "+--------+-----------+\n",
      "|     70 |         4 |\n",
      "|     11 |         4 |\n",
      "|      9 |         3 |\n",
      "|     52 |         3 |\n",
      "|     69 |         3 |\n",
      "|     98 |         2 |\n",
      "|     51 |         2 |\n",
      "|     19 |         2 |\n",
      "|     97 |         2 |\n",
      "|     80 |         2 |\n",
      "+--------+-----------+\n"
     ]
    }
   ],
   "source": [
    "from prettytable import PrettyTable\n",
    "\n",
    "# 결과를 PrettyTable 로 그려보기!\n",
    "pt = PrettyTable(field_names=['Number', 'Frequency'])\n",
    "pt.align = 'r'\n",
    "for data in count_a.most_common(10):\n",
    "    pt.add_row(data)\n",
    "print(pt)"
   ]
  },
  {
   "cell_type": "code",
   "execution_count": null,
   "metadata": {
    "collapsed": true
   },
   "outputs": [],
   "source": [
    "import json\n",
    "import requests\n",
    "\n",
    "# 페이스북 api에 연결하기\n",
    "ACCESS_TOKEN = 'YOUR_ACCESS_TOKEN'\n",
    "base_url = 'https://graph.facebook.com/'\n",
    "# 필드 = 내 아이디(페이스북 고유 아이디), 이름, 좋아요 정보, 친구들 아이디, 이름, 좋아요 정보\n",
    "fields = 'id, name, likes.fields(name, category), friends.fields(id, name, likes.fields(name, category))'\n",
    "\n",
    "response = requests.get('{}me?fields={}&access_token={}'.format(base_url, fields, ACCESS_TOKEN)).json()\n",
    "print(response)  # test\n",
    "\n",
    "# test - 정보가 어떤 식으로 저장되는 지 한번 보세요!\n",
    "with open('result.json', 'w', encoding='utf8') as json_file:\n",
    "    json.dump(response, json_file, indent=2, ensure_ascii=False)"
   ]
  },
  {
   "cell_type": "code",
   "execution_count": null,
   "metadata": {
    "collapsed": true
   },
   "outputs": [],
   "source": [
    "# 나에 대한 좋아요 가져오기\n",
    "# JSON에 저장된 방식을 보시면 이 코드가 이해가 가실 겁니다\n",
    "my_likes = response['likes']\n",
    "next_url = my_likes['paging']['next']\n",
    "while True:\n",
    "    try:\n",
    "        next_result = requests.get(next_url).json()\n",
    "        print(next_result)  # test\n",
    "        my_likes['data'] += next_result['data']\n",
    "        next_url = next_result['paging']['next']\n",
    "    except KeyError:\n",
    "        break"
   ]
  }
 ],
 "metadata": {
  "kernelspec": {
   "display_name": "social-env",
   "language": "python",
   "name": "social-env"
  },
  "language_info": {
   "codemirror_mode": {
    "name": "ipython",
    "version": 3
   },
   "file_extension": ".py",
   "mimetype": "text/x-python",
   "name": "python",
   "nbconvert_exporter": "python",
   "pygments_lexer": "ipython3",
   "version": "3.6.1"
  }
 },
 "nbformat": 4,
 "nbformat_minor": 2
}
