{
 "cells": [
  {
   "cell_type": "code",
   "execution_count": null,
   "metadata": {},
   "outputs": [
    {
     "name": "stdout",
     "output_type": "stream",
     "text": [
      "[3, 4, 5, 6, 8, 9, 7, 1, 2]\n"
     ]
    }
   ],
   "source": [
    "# Double Comprehension 예제\n",
    "original_list = [[3, 4, 5], [6, 8, 9], [7, 1, 2]]\n",
    "merged_list = [element for sub_list in original_list for element in sub_list]\n",
    "print(merged_list)"
   ]
  },
  {
   "cell_type": "code",
   "execution_count": 2,
   "metadata": {},
   "outputs": [
    {
     "name": "stdout",
     "output_type": "stream",
     "text": [
      "[3, 4, 5, 6, 8, 9, 7, 1, 2]\n"
     ]
    }
   ],
   "source": [
    "# 위의 코드랑 완전 똑같은 코드입니다!\n",
    "original_list = [[3, 4, 5], [6, 8, 9], [7, 1, 2]]\n",
    "merged_list = []\n",
    "for sub_list in original_list:\n",
    "    for element in sub_list:\n",
    "        merged_list.append(element)\n",
    "print(merged_list)"
   ]
  },
  {
   "cell_type": "code",
   "execution_count": 2,
   "metadata": {},
   "outputs": [
    {
     "name": "stdout",
     "output_type": "stream",
     "text": [
      "[{'Name': 'Tom', 'Score': 30, 'Age': 21}, {'Name': 'Jake', 'Score': 100, 'Age': 19}, {'Name': 'Todd', 'Score': 80, 'Age': 17}]\n",
      "[{'Name': 'Jake', 'Score': 100, 'Age': 19}, {'Name': 'Todd', 'Score': 80, 'Age': 17}, {'Name': 'Tom', 'Score': 30, 'Age': 21}]\n"
     ]
    }
   ],
   "source": [
    "# Sorting 예제\n",
    "data = [\n",
    "    {\n",
    "        'Name': 'Todd',\n",
    "        'Score': 80,\n",
    "        'Age': 17\n",
    "    },\n",
    "    {\n",
    "        'Name': 'Jake',\n",
    "        'Score': 100,\n",
    "        'Age': 19\n",
    "    },\n",
    "    {\n",
    "        'Name': 'Tom',\n",
    "        'Score': 30,\n",
    "        'Age': 21\n",
    "    },\n",
    "]\n",
    "\n",
    "\n",
    "def func(data):\n",
    "    try:\n",
    "        return data['Age']\n",
    "    except KeyError:\n",
    "        return None\n",
    "\n",
    "\n",
    "# 이렇게 함수를 직접 만들어서 넣을 수도 있고,\n",
    "data.sort(key=func, reverse=True)\n",
    "print(data)\n",
    "\n",
    "# 이렇게 람다를 활용해서 하실 수도 있습니다!\n",
    "data.sort(key=lambda x: x['Score'], reverse=True)\n",
    "print(data)\n"
   ]
  },
  {
   "cell_type": "code",
   "execution_count": null,
   "metadata": {
    "collapsed": false
   },
   "outputs": [
    {
     "name": "stdout",
     "output_type": "stream",
     "text": [
      "[ 8  7 56 83 98 43 52 40 62 82 40 70  1  6 45 55 77 23 82 38 75 73 86 57 61\n",
      " 89 36  2 94 82 98 83 51 52 43 19 67 50 52 10 60  1 64 27 13 17 57 23 80 46\n",
      "  8 17 92  3 49 71 62 38 69 83 77 47 66 30 81 10 38 83 95 86 48 83 60 15 65\n",
      " 83 81 94 80 68 31 65 38 12 85 55 99  8 91 45 47 13 37 80 91 93  2 29 56 27]\n",
      "Counter({83: 6, 38: 4, 8: 3, 52: 3, 82: 3, 80: 3, 56: 2, 98: 2, 43: 2, 40: 2, 62: 2, 1: 2, 45: 2, 55: 2, 77: 2, 23: 2, 86: 2, 57: 2, 2: 2, 94: 2, 10: 2, 60: 2, 27: 2, 13: 2, 17: 2, 47: 2, 81: 2, 65: 2, 91: 2, 7: 1, 70: 1, 6: 1, 75: 1, 73: 1, 61: 1, 89: 1, 36: 1, 51: 1, 19: 1, 67: 1, 50: 1, 64: 1, 46: 1, 92: 1, 3: 1, 49: 1, 71: 1, 69: 1, 66: 1, 30: 1, 95: 1, 48: 1, 15: 1, 68: 1, 31: 1, 12: 1, 85: 1, 99: 1, 37: 1, 93: 1, 29: 1})\n"
     ]
    }
   ],
   "source": [
    "# Counter 예제\n",
    "\n",
    "import numpy as np\n",
    "from collections import Counter\n",
    "\n",
    "a = np.random.randint(1, 101, 100)\n",
    "print(a)\n",
    "count_a = Counter(a)\n",
    "print(count_a)\n"
   ]
  },
  {
   "cell_type": "code",
   "execution_count": 4,
   "metadata": {
    "collapsed": false
   },
   "outputs": [
    {
     "name": "stdout",
     "output_type": "stream",
     "text": [
      "+--------+-----------+\n",
      "| Number | Frequency |\n",
      "+--------+-----------+\n",
      "|     83 |         6 |\n",
      "|     38 |         4 |\n",
      "|      8 |         3 |\n",
      "|     52 |         3 |\n",
      "|     82 |         3 |\n",
      "|     80 |         3 |\n",
      "|     56 |         2 |\n",
      "|     98 |         2 |\n",
      "|     43 |         2 |\n",
      "|     40 |         2 |\n",
      "+--------+-----------+\n"
     ]
    }
   ],
   "source": [
    "from prettytable import PrettyTable\n",
    "\n",
    "# 결과를 PrettyTable 로 그려보기!\n",
    "pt = PrettyTable(field_names=['Number', 'Frequency'])\n",
    "pt.align = 'r'\n",
    "for data in count_a.most_common(10):\n",
    "    pt.add_row(data)\n",
    "print(pt)"
   ]
  },
  {
   "cell_type": "code",
   "execution_count": null,
   "metadata": {
    "collapsed": true
   },
   "outputs": [],
   "source": []
  }
 ],
 "metadata": {
  "kernelspec": {
   "display_name": "social-env",
   "language": "python",
   "name": "social-env"
  },
  "language_info": {
   "codemirror_mode": {
    "name": "ipython",
    "version": 3
   },
   "file_extension": ".py",
   "mimetype": "text/x-python",
   "name": "python",
   "nbconvert_exporter": "python",
   "pygments_lexer": "ipython3",
   "version": "3.6.1"
  }
 },
 "nbformat": 4,
 "nbformat_minor": 2
}
