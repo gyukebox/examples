{
 "cells": [
  {
   "cell_type": "code",
   "execution_count": null,
   "metadata": {
    "collapsed": true
   },
   "outputs": [],
   "source": [
    "import json\n",
    "import requests\n",
    "\n",
    "# 페이스북 api에 연결하기\n",
    "ACCESS_TOKEN = 'YOUR_ACCESS_TOKEN'\n",
    "base_url = 'https://graph.facebook.com/'\n",
    "# 필드 = 내 아이디(페이스북 고유 아이디), 이름, 좋아요 정보, 친구들 아이디, 이름, 좋아요 정보\n",
    "fields = 'id, name, likes.fields(name, category), friends.fields(id, name, likes.fields(name, category))'\n",
    "\n",
    "response = requests.get('{}me?fields={}&access_token={}'.format(base_url, fields, ACCESS_TOKEN)).json()\n",
    "print(response)  # test\n",
    "\n",
    "# test - 정보가 어떤 식으로 저장되는 지 한번 보세요!\n",
    "with open('result.json', 'w', encoding='utf8') as json_file:\n",
    "    json.dump(response, json_file, indent=2, ensure_ascii=False)"
   ]
  },
  {
   "cell_type": "code",
   "execution_count": null,
   "metadata": {
    "collapsed": true
   },
   "outputs": [],
   "source": [
    "# 나에 대한 좋아요 가져오기\n",
    "# JSON에 저장된 방식을 보시면 이 코드가 이해가 가실 겁니다\n",
    "my_likes = response['likes']\n",
    "next_url = my_likes['paging']['next']\n",
    "while True:\n",
    "    try:\n",
    "        next_result = requests.get(next_url).json()\n",
    "        print(next_result)  # test\n",
    "        my_likes['data'] += next_result['data']\n",
    "        next_url = next_result['paging']['next']\n",
    "    except KeyError:\n",
    "        break"
   ]
  },
  {
   "cell_type": "code",
   "execution_count": null,
   "metadata": {
    "collapsed": true
   },
   "outputs": [],
   "source": []
  }
 ],
 "metadata": {
  "kernelspec": {
   "display_name": "social-env",
   "language": "python",
   "name": "social-env"
  },
  "language_info": {
   "codemirror_mode": {
    "name": "ipython",
    "version": 3
   },
   "file_extension": ".py",
   "mimetype": "text/x-python",
   "name": "python",
   "nbconvert_exporter": "python",
   "pygments_lexer": "ipython3",
   "version": "3.6.1"
  }
 },
 "nbformat": 4,
 "nbformat_minor": 2
}
